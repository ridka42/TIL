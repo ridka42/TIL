```
# 자동으로 예쁜 그림
# 커스터마이징 힘듦

import seaborn as sns
import matplotlib.pyplot as plt
tips = sns.load_dataset('tips')

# matplot과 seaborn 연동 가능
fig = plt.figure()
ax = fig.add_subplot(1,1,1)

ax = sns.histplot(tips['total_bill'])
```
