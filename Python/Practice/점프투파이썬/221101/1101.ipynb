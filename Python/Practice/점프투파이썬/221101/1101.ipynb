{
 "cells": [
  {
   "cell_type": "markdown",
   "metadata": {},
   "source": [
    "# 6장 파이썬 프로그래밍"
   ]
  },
  {
   "cell_type": "markdown",
   "metadata": {},
   "source": [
    "#### 문제 06-2 3과 5의 배수 합하기\n",
    "10 미만의 자연수에서 3과 5의 배수를 구하면 3, 5, 6, 9이다. 이들의 총합은 23이다.\n",
    "1000 미만의 자연수에서 3의 배수와 5의 배수의 총합을 구하라."
   ]
  },
  {
   "cell_type": "code",
   "execution_count": 10,
   "metadata": {},
   "outputs": [
    {
     "data": {
      "text/plain": [
       "[3, 5, 6, 9, 10, 12, 15, 18]"
      ]
     },
     "execution_count": 10,
     "metadata": {},
     "output_type": "execute_result"
    }
   ],
   "source": [
    "a=[]\n",
    "for i in range(1,20):\n",
    "  if i % 3 ==0:\n",
    "    a.append(i)\n",
    "  elif i % 5 ==0:\n",
    "    a.append(i)\n",
    "\n",
    "sum(a)\n"
   ]
  },
  {
   "cell_type": "markdown",
   "metadata": {},
   "source": [
    "#### 문제 06-3 게시판 페이징하기\n",
    "\n",
    "A 씨는 게시판 프로그램을 작성하고 있다. 그런데 게시물의 총 건수와 한 페이지에 보여 줄 게시물 수를 입력으로 주었을 때 총 페이지 수를 출력하는 프로그램이 필요하다고 한다.\n"
   ]
  },
  {
   "cell_type": "code",
   "execution_count": null,
   "metadata": {},
   "outputs": [],
   "source": [
    "in_val = list(map(int,input(\"총 건수와 한 페이지에 보여줄 게시물 수를 입력해주세요\")))\n",
    "t = in_val[0] # 총 건수\n",
    "n = in_val[1] # 한 페이지의 게시물 수\n",
    "\n",
    "def getTotalPage(t,n):\n",
    "  a=divmod(t,n)\n",
    "  if a[1] ==0:\n",
    "    p =a[0]\n",
    "  else:\n",
    "    p = a[0]+1\n",
    "  return p\n",
    "\n",
    "getTotalPage(25,10)\n"
   ]
  },
  {
   "cell_type": "markdown",
   "metadata": {},
   "source": [
    "#### 06-4 간단한 메모장 만들기\n",
    "\n",
    "원하는 메모를 파일에 저장하고 추가 및 조회가 가능한 간단한 메모장을 만들어 보자.\n",
    "\n",
    "필요한 기능은? 메모 추가하기, 메모 조회하기\n",
    "\n",
    "입력 받는 값은? 메모 내용, 프로그램 실행 옵션\n",
    "\n",
    "출력하는 값은? memo.txt"
   ]
  },
  {
   "cell_type": "code",
   "execution_count": 19,
   "metadata": {},
   "outputs": [],
   "source": [
    "import sys\n",
    "\n",
    "option = sys.argv[1]\n",
    "\n",
    "if option == '-a':\n",
    "    memo = sys.argv[2]\n",
    "    f = open('memo.txt', 'a')\n",
    "    f.write(memo)\n",
    "    f.write('\\n')\n",
    "    f.close()\n",
    "elif option == '-v':\n",
    "    f = open('memo.txt')\n",
    "    memo = f.read()\n",
    "    f.close()\n",
    "    print(memo)"
   ]
  },
  {
   "cell_type": "markdown",
   "metadata": {},
   "source": [
    "# 8장 종합문제"
   ]
  },
  {
   "cell_type": "markdown",
   "metadata": {},
   "source": [
    "### Q1 문자열 바꾸기\n",
    "\n",
    "다음과 같은 문자열이 있다.\n",
    "\n",
    "a:b:c:d\n",
    "\n",
    "문자열의 split와 join 함수를 사용하여 위 문자열을 다음과 같이 고치시오.\n",
    "\n",
    "a#b#c#d"
   ]
  },
  {
   "cell_type": "code",
   "execution_count": 3,
   "metadata": {},
   "outputs": [
    {
     "data": {
      "text/plain": [
       "'a#b#c#d'"
      ]
     },
     "execution_count": 3,
     "metadata": {},
     "output_type": "execute_result"
    }
   ],
   "source": [
    "txt = \"a:b:c:d\"\n",
    "txt_sp = txt.split(\":\")\n",
    "\"#\".join(txt_sp)"
   ]
  },
  {
   "cell_type": "markdown",
   "metadata": {},
   "source": [
    "### Q2 딕셔너리 값 추출하기\n",
    "\n",
    "다음은 딕셔너리의 a에서 'C'라는 key에 해당하는 value를 출력하는 프로그램이다.\n",
    "\n",
    "```\n",
    ">>> a = {'A':90, 'B':80}\n",
    ">>> a['C']\n",
    "Traceback (most recent call last):\n",
    "  File \"<stdin>\", line 1,in <module>\n",
    "KeyError: 'C'\n",
    "\n",
    "```\n",
    "\n",
    "a 딕셔너리에는 'C'라는 key가 없으므로 위와 같은 오류가 발생한다. 'C'에 해당하는 key 값이 없을 경우 오류 대신 70을 얻을 수 있도록 수정하시오."
   ]
  },
  {
   "cell_type": "code",
   "execution_count": 5,
   "metadata": {},
   "outputs": [
    {
     "name": "stdout",
     "output_type": "stream",
     "text": [
      "70\n"
     ]
    }
   ],
   "source": [
    "a = {'A':90, 'B':80}\n",
    "try:\n",
    "  a['C']\n",
    "except:\n",
    "  print(70)"
   ]
  },
  {
   "cell_type": "markdown",
   "metadata": {},
   "source": [
    "### ****Q3 리스트의 더하기와 extend 함수****\n",
    "\n",
    "다음과 같은 리스트 a가 있다.\n",
    "\n",
    "```\n",
    ">>> a = [1, 2, 3]\n",
    "\n",
    "```\n",
    "\n",
    "리스트 a에 [4, 5]를 + 기호를 사용하여 더한 결과는 다음과 같다.\n",
    "\n",
    "```\n",
    ">>> a = [1, 2, 3]\n",
    ">>> a = a + [4,5]\n",
    ">>> a\n",
    "[1, 2, 3, 4, 5]\n",
    "\n",
    "```\n",
    "\n",
    "리스트 a에 [4,5]를 extend를 사용하여 더한 결과는 다음과 같다.\n",
    "\n",
    "```\n",
    ">>> a = [1, 2, 3]\n",
    ">>> a.extend([4, 5])\n",
    ">>> a\n",
    "[1, 2, 3, 4, 5]\n",
    "\n",
    "```\n",
    "\n",
    "`+` 기호를 사용하여 더한 것과 extend한 것의 차이점이 있을까? 있다면 그 차이점을 설명하시오."
   ]
  },
  {
   "cell_type": "code",
   "execution_count": 7,
   "metadata": {},
   "outputs": [
    {
     "name": "stdout",
     "output_type": "stream",
     "text": [
      "1874382486400\n",
      "1874382511232\n"
     ]
    }
   ],
   "source": [
    "a = [1, 2, 3]\n",
    "print(id(a))\n",
    "\n",
    "a = a + [4,5]\n",
    "print(id(a))\n",
    "\n",
    "# 달라짐"
   ]
  },
  {
   "cell_type": "code",
   "execution_count": 11,
   "metadata": {},
   "outputs": [
    {
     "name": "stdout",
     "output_type": "stream",
     "text": [
      "1874378350656\n",
      "1874378350656\n"
     ]
    }
   ],
   "source": [
    "a = [1, 2, 3]\n",
    "print(id(a))\n",
    "\n",
    "a + [4,5]\n",
    "print(id(a))\n",
    "\n",
    "#같음"
   ]
  },
  {
   "cell_type": "code",
   "execution_count": 9,
   "metadata": {},
   "outputs": [
    {
     "name": "stdout",
     "output_type": "stream",
     "text": [
      "1874414575744\n",
      "1874414575744\n"
     ]
    }
   ],
   "source": [
    "a = [1, 2, 3]\n",
    "print(id(a))\n",
    "\n",
    "a.extend([4,5])\n",
    "print(id(a))\n",
    "\n",
    "# 같음"
   ]
  },
  {
   "cell_type": "code",
   "execution_count": 10,
   "metadata": {},
   "outputs": [
    {
     "name": "stdout",
     "output_type": "stream",
     "text": [
      "1874414039296\n",
      "140731014551544\n"
     ]
    }
   ],
   "source": [
    "a = [1, 2, 3]\n",
    "print(id(a))\n",
    "\n",
    "a= a.extend([4,5])\n",
    "print(id(a))\n",
    "\n",
    "# 달라짐"
   ]
  },
  {
   "cell_type": "markdown",
   "metadata": {},
   "source": [
    "#### Q4 리스트 총합 구하기\n",
    "다음은 A학급 학생의 점수를 나타내는 리스트이다. 다음 리스트에서 50점 이상 점수의 총합을 구하시오.\n",
    "\n",
    "```\n",
    "A = [20, 55, 67, 82, 45, 33, 90, 87, 100, 25]\n",
    "```"
   ]
  },
  {
   "cell_type": "code",
   "execution_count": 12,
   "metadata": {},
   "outputs": [
    {
     "name": "stdout",
     "output_type": "stream",
     "text": [
      "481\n"
     ]
    }
   ],
   "source": [
    "A = [20, 55, 67, 82, 45, 33, 90, 87, 100, 25]\n",
    "result =0\n",
    "\n",
    "for a in A:\n",
    "  if a >= 50:\n",
    "    result += a\n",
    "\n",
    "print(result)"
   ]
  },
  {
   "cell_type": "markdown",
   "metadata": {},
   "source": [
    "### Q5 피보나치 함수\n",
    "첫 번째 항의 값이 0이고 두 번째 항의 값이 1일 때, 이후에 이어지는 항은 이전의 두 항을 더한 값으로 이루어지는 수열을 피보나치 수열이라고 한다.\n",
    "\n",
    "```\n",
    "0, 1, 1, 2, 3, 5, 8, 13, ...\n",
    "\n",
    "```\n",
    "\n",
    "입력을 정수 n으로 받았을 때, n 이하까지의 피보나치 수열을 출력하는 함수를 작성해 보자."
   ]
  },
  {
   "cell_type": "code",
   "execution_count": 4,
   "metadata": {},
   "outputs": [
    {
     "name": "stdout",
     "output_type": "stream",
     "text": [
      "0\n",
      "1\n",
      "1\n",
      "2\n",
      "3\n",
      "5\n",
      "8\n",
      "13\n",
      "21\n",
      "34\n",
      "55\n"
     ]
    }
   ],
   "source": [
    "n = int(input(\"숫자를 입력하세요:\"))\n",
    "\n",
    "def pibo(i):\n",
    "  if i == 0:\n",
    "    r=0\n",
    "  elif i ==1:\n",
    "    r=1\n",
    "  else:\n",
    "    r = pibo(i-1)+pibo(i-2)\n",
    "  return r\n",
    "\n",
    "for i in range(n+1):\n",
    "  print(pibo(i))\n"
   ]
  },
  {
   "cell_type": "code",
   "execution_count": 3,
   "metadata": {},
   "outputs": [
    {
     "data": {
      "text/plain": [
       "2"
      ]
     },
     "execution_count": 3,
     "metadata": {},
     "output_type": "execute_result"
    }
   ],
   "source": [
    "pibo(3)"
   ]
  },
  {
   "cell_type": "markdown",
   "metadata": {},
   "source": [
    "### Q6 숫자의 총합 구하기\n",
    "사용자로부터 다음과 같은 숫자를 입력받아 입력받은 숫자의 총합을 구하는 프로그램을 작성하시오. (단 숫자는 콤마로 구분하여 입력한다.)\n",
    "\n",
    "```\n",
    "65,45,2,3,45,8\n",
    "```"
   ]
  },
  {
   "cell_type": "code",
   "execution_count": 5,
   "metadata": {},
   "outputs": [
    {
     "data": {
      "text/plain": [
       "168"
      ]
     },
     "execution_count": 5,
     "metadata": {},
     "output_type": "execute_result"
    }
   ],
   "source": [
    "n= list(map(int,input(\"숫자를 입력해주세요\").split(\",\")))\n",
    "sum(n)"
   ]
  },
  {
   "cell_type": "markdown",
   "metadata": {},
   "source": [
    "### Q7 한 줄 구구단\n",
    "사용자로부터 2~9의 숫자 중 하나를 입력받아 해당 숫자의 구구단을 한 줄로 출력하는 프로그램을 작성하시오.\n",
    "\n",
    "실행 예)\n",
    "\n",
    "구구단을 출력할 숫자를 입력하세요(2~9): 2\n",
    "```\n",
    "2 4 6 8 10 12 14 16 18\n",
    "```"
   ]
  },
  {
   "cell_type": "code",
   "execution_count": 8,
   "metadata": {},
   "outputs": [
    {
     "name": "stdout",
     "output_type": "stream",
     "text": [
      "2 4 6 8 10 12 14 16 18 "
     ]
    }
   ],
   "source": [
    "n = int(input(\"구구단을 출력할 숫자를 입력하세요(2~9):\"))\n",
    "for i in range(1,10):\n",
    "  print(n*i, end=\" \")"
   ]
  },
  {
   "cell_type": "markdown",
   "metadata": {},
   "source": [
    "### 역순 저장\n",
    "\n",
    "다음과 같은 내용의 파일 abc.txt가 있다.\n",
    "```\n",
    "AAA\n",
    "BBB\n",
    "CCC\n",
    "DDD\n",
    "EEE\n",
    "```\n",
    "이 파일의 내용을 다음과 같이 역순으로 바꾸어 저장하시오.\n",
    "```\n",
    "EEE\n",
    "DDD\n",
    "CCC\n",
    "BBB\n",
    "AAA\n",
    "```"
   ]
  },
  {
   "cell_type": "code",
   "execution_count": 12,
   "metadata": {},
   "outputs": [],
   "source": [
    "f= open(\"abc.txt\",'w')\n",
    "f.write(\"AAA\\nBBB\\nCCC\")\n",
    "f.close()\n",
    "\n",
    "f= open(\"abc.txt\",'r')\n",
    "lines = f.readlines()\n",
    "lines.reverse()\n",
    "f.close()\n",
    "\n",
    "f= open(\"abc.txt\",'w')\n",
    "for l in lines:\n",
    "  l = l.strip()\n",
    "  f.write(l)\n",
    "  f.write('\\n')\n",
    "f.close()\n",
    "\n"
   ]
  },
  {
   "cell_type": "markdown",
   "metadata": {},
   "source": [
    "### Q9 평균값 구하기\n",
    "다음과 같이 총 10줄로 이루어진 sample.txt 파일이 있다. sample.txt 파일의 숫자 값을 모두 읽어 총합과 평균 값을 구한 후 평균 값을 result.txt 파일에 쓰는 프로그램을 작성하시오.\n",
    "\n",
    "```\n",
    "70\n",
    "60\n",
    "55\n",
    "75\n",
    "95\n",
    "90\n",
    "80\n",
    "80\n",
    "85\n",
    "100\n",
    "```"
   ]
  },
  {
   "cell_type": "code",
   "execution_count": 28,
   "metadata": {},
   "outputs": [
    {
     "name": "stdout",
     "output_type": "stream",
     "text": [
      "790 79.0\n"
     ]
    }
   ],
   "source": [
    "f= open(\"sample.txt\",'w')\n",
    "f.write(\"\"\"70\n",
    "60\n",
    "55\n",
    "75\n",
    "95\n",
    "90\n",
    "80\n",
    "80\n",
    "85\n",
    "100\"\"\")\n",
    "f.close()\n",
    "\n",
    "f=open(\"sample.txt\",'r')\n",
    "data = f.read()\n",
    "f.close()\n",
    "\n",
    "data = list(map(int,data.split(\"\\n\")))\n",
    "total = sum(data)\n",
    "average = sum(data)/len(data)\n",
    "\n",
    "print(total,average)\n",
    "\n",
    "f=open(\"sample.txt\",'a')\n",
    "f.write('\\n')\n",
    "f.write(\"average is : \")\n",
    "f.write(str(average))\n",
    "f.close()"
   ]
  },
  {
   "cell_type": "markdown",
   "metadata": {},
   "source": [
    "### 사칙연산 계산기\n",
    "다음과 같이 동작하는 클래스 Calculator를 작성하시오.\n",
    "```\n",
    ">>> cal1 = Calculator([1,2,3,4,5])\n",
    ">>> cal1.sum() # 합계\n",
    "15\n",
    ">>> cal1.avg() # 평균\n",
    "3.0\n",
    ">>> cal2 = Calculator([6,7,8,9,10])\n",
    ">>> cal2.sum() # 합계\n",
    "40\n",
    ">>> cal2.avg() # 평균\n",
    "8.0\n",
    "```"
   ]
  },
  {
   "cell_type": "code",
   "execution_count": 35,
   "metadata": {},
   "outputs": [],
   "source": [
    "class Calculator:\n",
    "  def __init__(self, numlist):\n",
    "    self.numlist = numlist\n",
    "\n",
    "  def sum(self):\n",
    "    return sum(self.numlist)\n",
    "\n",
    "  def avg(self):\n",
    "    return round(sum(self.numlist)/len(self.numlist),1)"
   ]
  },
  {
   "cell_type": "code",
   "execution_count": 36,
   "metadata": {},
   "outputs": [
    {
     "name": "stdout",
     "output_type": "stream",
     "text": [
      "15\n",
      "3.0\n"
     ]
    }
   ],
   "source": [
    "cal1 = Calculator([1,2,3,4,5])\n",
    "print(cal1.sum())\n",
    "print(cal1.avg())"
   ]
  },
  {
   "cell_type": "code",
   "execution_count": 37,
   "metadata": {},
   "outputs": [
    {
     "name": "stdout",
     "output_type": "stream",
     "text": [
      "40\n",
      "8.0\n"
     ]
    }
   ],
   "source": [
    "cal2 = Calculator([6,7,8,9,10])\n",
    "print(cal2.sum())\n",
    "print(cal2.avg())"
   ]
  },
  {
   "cell_type": "code",
   "execution_count": null,
   "metadata": {},
   "outputs": [],
   "source": []
  },
  {
   "cell_type": "markdown",
   "metadata": {},
   "source": []
  }
 ],
 "metadata": {
  "kernelspec": {
   "display_name": "Python 3.10.5 64-bit",
   "language": "python",
   "name": "python3"
  },
  "language_info": {
   "codemirror_mode": {
    "name": "ipython",
    "version": 3
   },
   "file_extension": ".py",
   "mimetype": "text/x-python",
   "name": "python",
   "nbconvert_exporter": "python",
   "pygments_lexer": "ipython3",
   "version": "3.10.5"
  },
  "orig_nbformat": 4,
  "vscode": {
   "interpreter": {
    "hash": "e593ac106456af50ce7af38f9671c411b49d6cd90f9b885e167f0f594e09038c"
   }
  }
 },
 "nbformat": 4,
 "nbformat_minor": 2
}
