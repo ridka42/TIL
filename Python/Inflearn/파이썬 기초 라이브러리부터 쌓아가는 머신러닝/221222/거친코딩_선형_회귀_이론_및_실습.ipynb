{
  "nbformat": 4,
  "nbformat_minor": 0,
  "metadata": {
    "colab": {
      "provenance": []
    },
    "kernelspec": {
      "name": "python3",
      "display_name": "Python 3"
    },
    "language_info": {
      "name": "python"
    }
  },
  "cells": [
    {
      "cell_type": "markdown",
      "source": [
        "# 선형 회귀 이론 및 실습"
      ],
      "metadata": {
        "id": "20yE49VV4m5o"
      }
    },
    {
      "cell_type": "markdown",
      "source": [
        "## 선형 회귀 모델의 최적화 방법"
      ],
      "metadata": {
        "id": "26AiXV-z4k4n"
      }
    },
    {
      "cell_type": "markdown",
      "source": [
        "### 정규방정식"
      ],
      "metadata": {
        "id": "TtNm5vYI7mfs"
      }
    },
    {
      "cell_type": "code",
      "source": [
        "import matplotlib.pyplot as plt\n",
        "import numpy as np\n",
        "\n",
        "x=2*np.random.rand(100,1) # 0~1 사이의 균일분포: (100x1) 모양\n",
        "y=4+3*x+np.random.randn(100,1) # normal 분포 mu=0,var=1: (100,1) 모양 -> 노이즈를 위해 추가\n",
        "plt.scatter(x,y)\n",
        "plt.show()\n",
        "\n",
        "# 이 데이터로 선형회귀 그려보기"
      ],
      "metadata": {
        "colab": {
          "base_uri": "https://localhost:8080/",
          "height": 265
        },
        "id": "ySQNLiQu7pqM",
        "outputId": "5fa5d948-8a54-4ec2-eae4-ac39c9ac9cd1"
      },
      "execution_count": 2,
      "outputs": [
        {
          "output_type": "display_data",
          "data": {
            "text/plain": [
              "<Figure size 432x288 with 1 Axes>"
            ],
            "image/png": "[encoded data removed]"
          },
          "metadata": {
            "needs_background": "light"
          }
        }
      ]
    },
    {
      "cell_type": "code",
      "source": [
        "x_bias = np.c_[np.ones((100,1)),x] \n",
        "# np.c_: arrapy 형태에 새 컬럼을 추가한다.\n",
        "# np.ones((100,1)) : 100x1 형태의 1을 추출\n",
        "x_bias \n",
        "# bias 텀을 추가하지 않으면 w0 w1를 가져와야하는데 w1만 가져오기 때문에 가상의 데이터 1을 붙여준것"
      ],
      "metadata": {
        "id": "YjUpWXMR4kr7"
      },
      "execution_count": null,
      "outputs": []
    },
    {
      "cell_type": "code",
      "source": [
        "# 최적의 파라미터 구하기\n",
        "theta_best = np.linalg.inv(x_bias.T.dot(x_bias)).dot(x_bias.T).dot(y)\n",
        "theta_best\n",
        "# 실제 y는 4+3x 예측은 3.8+3.1x\n",
        "# noise 때문에 정확히 예측할 수 없다."
      ],
      "metadata": {
        "colab": {
          "base_uri": "https://localhost:8080/"
        },
        "id": "kw7fIDuS89cz",
        "outputId": "80fb0f58-5e89-44df-b8bb-89bb2cc7eee4"
      },
      "execution_count": 5,
      "outputs": [
        {
          "output_type": "execute_result",
          "data": {
            "text/plain": [
              "array([[3.79962542],\n",
              "       [3.06268427]])"
            ]
          },
          "metadata": {},
          "execution_count": 5
        }
      ]
    },
    {
      "cell_type": "code",
      "source": [
        "x_new = np.array(([0],[2])) # x에 0,2를 넣는다 -> 0과 2를 예측 해보자\n",
        "x_new_beta = np.c_[np.ones((2,1)),x_new] # x_new 에 bias term을 추가\n",
        "x_new_beta"
      ],
      "metadata": {
        "colab": {
          "base_uri": "https://localhost:8080/"
        },
        "id": "Ti6Jmbuq9qRj",
        "outputId": "6b1aa8f0-eef3-43e7-dfda-451588d50bef"
      },
      "execution_count": 7,
      "outputs": [
        {
          "output_type": "execute_result",
          "data": {
            "text/plain": [
              "array([[1., 0.],\n",
              "       [1., 2.]])"
            ]
          },
          "metadata": {},
          "execution_count": 7
        }
      ]
    },
    {
      "cell_type": "code",
      "source": [
        "# 예측하기\n",
        "prediction = x_new_beta.dot(theta_best) # y=W*x를 구현 theta_best-> W\n",
        "prediction"
      ],
      "metadata": {
        "colab": {
          "base_uri": "https://localhost:8080/"
        },
        "id": "mDQvNhsH-cNe",
        "outputId": "aef5eda1-08eb-44e6-a068-cb03733ec83e"
      },
      "execution_count": 9,
      "outputs": [
        {
          "output_type": "execute_result",
          "data": {
            "text/plain": [
              "array([[3.79962542],\n",
              "       [9.92499396]])"
            ]
          },
          "metadata": {},
          "execution_count": 9
        }
      ]
    },
    {
      "cell_type": "code",
      "source": [
        "# 시각화\n",
        "plt.plot(x_new,prediction,'r-') # 예측선\n",
        "plt.plot(x,y,'b.')\n",
        "plt.axis([0,2,0,15])\n",
        "plt.show()"
      ],
      "metadata": {
        "colab": {
          "base_uri": "https://localhost:8080/",
          "height": 265
        },
        "id": "LhfXfr8m-pLs",
        "outputId": "4f5779b9-f461-41ea-b24a-931587f2f51d"
      },
      "execution_count": 10,
      "outputs": [
        {
          "output_type": "display_data",
          "data": {
            "text/plain": [
              "<Figure size 432x288 with 1 Axes>"
            ],
            "image/png": "[encoded data removed]"
          },
          "metadata": {
            "needs_background": "light"
          }
        }
      ]
    },
    {
      "cell_type": "code",
      "execution_count": 11,
      "metadata": {
        "id": "dytaMNxcb1G9",
        "colab": {
          "base_uri": "https://localhost:8080/"
        },
        "outputId": "6872a771-5c64-42a9-bb3c-18a9637babdc"
      },
      "outputs": [
        {
          "output_type": "stream",
          "name": "stdout",
          "text": [
            "[3.79962542] [[3.06268427]]\n"
          ]
        }
      ],
      "source": [
        "# sklearn 라이브러리 사용\n",
        "from sklearn.linear_model import LinearRegression\n",
        "lin_reg = LinearRegression() # 객체 생성\n",
        "lin_reg.fit(x,y)\n",
        "print(lin_reg.intercept_, lin_reg.coef_)\n",
        "# W0, W1 찍어보기"
      ]
    },
    {
      "cell_type": "markdown",
      "source": [
        "### 배치 경사 하강법"
      ],
      "metadata": {
        "id": "qsSuWy1TF1Pn"
      }
    },
    {
      "cell_type": "code",
      "source": [
        "import numpy as np\n",
        "\n",
        "x = 2 * np.random.rand(100,1)\n",
        "x_b = np.c_[np.ones((100,1)),x]\n",
        "y= 4+3*x+np.random.randn(100,1)\n",
        "\n",
        "learning_rate = 0.001 # 처음엔 작게 시작\n",
        "iterations =1000 # 1000번 반복\n",
        "m = x_b.shape[0] # x 데이터 수\n",
        "\n",
        "theta = np.random.randn(2,1) # 초기화\n",
        "\n",
        "for iteration in range(iterations):\n",
        "    gradients = 2/m*x_b.T.dot(x_b.dot(theta)-y) # 2번 방법\n",
        "    theta = theta - (learning_rate*gradients)\n",
        "theta"
      ],
      "metadata": {
        "colab": {
          "base_uri": "https://localhost:8080/"
        },
        "id": "Lt_bz12wF25m",
        "outputId": "341c3d83-aba7-4d59-e2c4-7abac07b68e9"
      },
      "execution_count": 17,
      "outputs": [
        {
          "output_type": "execute_result",
          "data": {
            "text/plain": [
              "array([[3.35239499],\n",
              "       [3.57145261]])"
            ]
          },
          "metadata": {},
          "execution_count": 17
        }
      ]
    },
    {
      "cell_type": "markdown",
      "source": [
        "### 확률적 경사 하강법"
      ],
      "metadata": {
        "id": "Z_AraV0SJDuT"
      }
    },
    {
      "cell_type": "code",
      "source": [
        "epochs = 1000\n",
        "t0,t1 = 5, 50 # 학습 스케쥴 (하이퍼 파라미터)\n",
        "m= x_b.shape[0] # 100개 x 데이터 수\n",
        "\n",
        "def laerning_schedule(t):\n",
        "    return t0/(t+t1) # t가 커질 수록 리턴 값은 작아진다.\n",
        "\n",
        "theta = np.random.randn(2,1) # 벡터 초기화: 2x1 크기의 평균 0, 분산1 정규 분포\n",
        "\n",
        "for epoch in range(epochs): # 1000번\n",
        "    for i in range(m): # 데이터 수 만큼\n",
        "        random_index = np.random.randint(m) # 0~m-1 까지의 랜덤 숫자 한개\n",
        "        xi = x_b[random_index:random_index+1] # 1,2 크기\n",
        "        yi = y[random_index:random_index+1] # 1,1 크기\n",
        "        gradients = 2*xi.T.dot(xi.dot(theta)-yi)\n",
        "        learning_rate = laerning_schedule(epoch*m + i) # t 가 점점 커진다.\n",
        "        theta = theta - learning_rate*gradients\n",
        "theta"
      ],
      "metadata": {
        "colab": {
          "base_uri": "https://localhost:8080/"
        },
        "id": "QGK1GE7GG8Ds",
        "outputId": "a2bfe836-3fe5-4293-81ad-3be14b44845d"
      },
      "execution_count": 21,
      "outputs": [
        {
          "output_type": "execute_result",
          "data": {
            "text/plain": [
              "array([[0.5794169 ],\n",
              "       [0.19317262]])"
            ]
          },
          "metadata": {},
          "execution_count": 21
        }
      ]
    },
    {
      "cell_type": "markdown",
      "source": [
        "### 미니배치 경사 하강법"
      ],
      "metadata": {
        "id": "opIgFsdWhaUJ"
      }
    },
    {
      "cell_type": "code",
      "source": [
        "iterations=1000\n",
        "minibatch_size=20\n",
        "m= x_b.shape[0] # 100개 x 데이터 수\n",
        "t0,t1 = 5, 50 # 학습 스케쥴 (하이퍼 파라미터)\n",
        "\n",
        "def laerning_schedule(t):\n",
        "    return t0/(t+t1) # t가 커질 수록 리턴 값은 작아진다.\n",
        "\n",
        "theta = np.random.randn(2,1) # 벡터 초기화: 2x1 크기의 평균 0, 분산1 정규 분포\n",
        "\n",
        "for iterations in range(iterations):\n",
        "    shuffled_indices = np.random.permutation(m) # 랜덤하게 순서를 만든다.\n",
        "    x_b_shuffled = x_b[shuffled_indices]\n",
        "    y_shuffled = y[shuffled_indices]\n",
        "    for i in range(0,m,minibatch_size):\n",
        "        xi = x_b_shuffled[i:i+minibatch_size]\n",
        "        yi = y_shuffled[i:i+minibatch_size]\n",
        "        gradients = 2*xi.T.dot(xi.dot(theta)-yi)\n",
        "        learning_rate = laerning_schedule(iterations*m + i) # t 가 점점 커진다.\n",
        "        theta = theta - learning_rate*gradients\n",
        "theta"
      ],
      "metadata": {
        "colab": {
          "base_uri": "https://localhost:8080/"
        },
        "id": "0A1fmCvLhb5u",
        "outputId": "d09137dd-a2bb-4321-e0ed-82df349a244d"
      },
      "execution_count": 22,
      "outputs": [
        {
          "output_type": "execute_result",
          "data": {
            "text/plain": [
              "array([[4.03423653],\n",
              "       [3.08947856]])"
            ]
          },
          "metadata": {},
          "execution_count": 22
        }
      ]
    },
    {
      "cell_type": "code",
      "source": [],
      "metadata": {
        "id": "NYwZJK0wifXE"
      },
      "execution_count": null,
      "outputs": []
    }
  ]
}