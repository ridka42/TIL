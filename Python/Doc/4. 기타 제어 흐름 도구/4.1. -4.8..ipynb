{
 "cells": [
  {
   "cell_type": "markdown",
   "metadata": {},
   "source": [
    "# 4.1. if 문"
   ]
  },
  {
   "cell_type": "code",
   "execution_count": 7,
   "metadata": {},
   "outputs": [
    {
     "name": "stdout",
     "output_type": "stream",
     "text": [
      "12\n"
     ]
    }
   ],
   "source": [
    "x = int(input(\"please enter an integer: \"))\n",
    "print(x)"
   ]
  },
  {
   "cell_type": "code",
   "execution_count": 8,
   "metadata": {},
   "outputs": [
    {
     "name": "stdout",
     "output_type": "stream",
     "text": [
      "More\n"
     ]
    }
   ],
   "source": [
    "if x < 0 :\n",
    "    x=0\n",
    "    print('Negative changed to zero')\n",
    "elif x == 0:\n",
    "    print('zero')\n",
    "elif x == 1:\n",
    "    print('Single')\n",
    "else:\n",
    "    print('More')"
   ]
  },
  {
   "cell_type": "markdown",
   "metadata": {},
   "source": [
    "# 4.2. for 문"
   ]
  },
  {
   "cell_type": "code",
   "execution_count": 10,
   "metadata": {},
   "outputs": [
    {
     "name": "stdout",
     "output_type": "stream",
     "text": [
      "['cat', 'window', 'defenestrate']\n"
     ]
    }
   ],
   "source": [
    "words = ['cat','window','defenestrate']\n",
    "print(words)"
   ]
  },
  {
   "cell_type": "code",
   "execution_count": 11,
   "metadata": {},
   "outputs": [
    {
     "name": "stdout",
     "output_type": "stream",
     "text": [
      "cat 3\n",
      "window 6\n",
      "defenestrate 12\n"
     ]
    }
   ],
   "source": [
    "for w in words:\n",
    "    print(w, len(w))\n",
    "\n",
    "# w는 words 리스트의 아이템 하나"
   ]
  },
  {
   "cell_type": "code",
   "execution_count": 18,
   "metadata": {},
   "outputs": [
    {
     "name": "stdout",
     "output_type": "stream",
     "text": [
      "{'Hans': 'active', 'Eleonore': 'inactive', '景太郎': 'active'}\n"
     ]
    }
   ],
   "source": [
    "# 이터레이션 동안 컬렉션을 수정하는 코드는 오류 뜨기 쉬움 \n",
    "#   -> 컬렉션의 복사본으로 루프를 만들거나 새 컬렉션을 만든다.\n",
    "\n",
    "users = {'Hans':'active', 'Eleonore':'inactive', '景太郎':'active'}\n",
    "print(users)"
   ]
  },
  {
   "cell_type": "code",
   "execution_count": 19,
   "metadata": {},
   "outputs": [
    {
     "name": "stdout",
     "output_type": "stream",
     "text": [
      "{'Hans': 'active', '景太郎': 'active'}\n"
     ]
    }
   ],
   "source": [
    "for user, status in users.copy().items():\n",
    "    if status == 'inactive':\n",
    "        del users[user]\n",
    "        print(users)\n",
    "\n",
    "# 복사본을 만들어서 삭제"
   ]
  },
  {
   "cell_type": "code",
   "execution_count": 15,
   "metadata": {},
   "outputs": [
    {
     "name": "stdout",
     "output_type": "stream",
     "text": [
      "{'Hans': 'active', '景太郎': 'active'}\n"
     ]
    }
   ],
   "source": [
    "active_users = {}\n",
    "for user, status in users.items():\n",
    "    if status == 'active':\n",
    "        active_users[user] = status\n",
    "\n",
    "print(active_users)\n",
    "\n",
    "# 새 컬렉션을 만들어서 넣어주기 active_users[user]-> key / status-> value"
   ]
  },
  {
   "cell_type": "markdown",
   "metadata": {},
   "source": [
    "# 4.3. range() 함수"
   ]
  },
  {
   "cell_type": "code",
   "execution_count": 20,
   "metadata": {},
   "outputs": [
    {
     "name": "stdout",
     "output_type": "stream",
     "text": [
      "0\n",
      "1\n",
      "2\n",
      "3\n",
      "4\n"
     ]
    }
   ],
   "source": [
    "# 숫자들의 시퀀스로 이터레이션 할때 range 가 편리\n",
    "\n",
    "for i in range(5):\n",
    "    print(i)"
   ]
  },
  {
   "cell_type": "code",
   "execution_count": 21,
   "metadata": {},
   "outputs": [
    {
     "data": {
      "text/plain": [
       "[5, 6, 7, 8, 9]"
      ]
     },
     "execution_count": 21,
     "metadata": {},
     "output_type": "execute_result"
    }
   ],
   "source": [
    "list(range(5,10))"
   ]
  },
  {
   "cell_type": "code",
   "execution_count": 22,
   "metadata": {},
   "outputs": [
    {
     "data": {
      "text/plain": [
       "[0, 3, 6, 9]"
      ]
     },
     "execution_count": 22,
     "metadata": {},
     "output_type": "execute_result"
    }
   ],
   "source": [
    "list(range(0,10,3))"
   ]
  },
  {
   "cell_type": "code",
   "execution_count": 23,
   "metadata": {},
   "outputs": [
    {
     "data": {
      "text/plain": [
       "[-10, -40, -70]"
      ]
     },
     "execution_count": 23,
     "metadata": {},
     "output_type": "execute_result"
    }
   ],
   "source": [
    "list(range(-10,-100,-30))"
   ]
  },
  {
   "cell_type": "code",
   "execution_count": 24,
   "metadata": {},
   "outputs": [
    {
     "data": {
      "text/plain": [
       "['Mary', 'had', 'a', 'little', 'lamb']"
      ]
     },
     "execution_count": 24,
     "metadata": {},
     "output_type": "execute_result"
    }
   ],
   "source": [
    "a= ['Mary','had','a','little','lamb']\n",
    "a"
   ]
  },
  {
   "cell_type": "code",
   "execution_count": 25,
   "metadata": {},
   "outputs": [
    {
     "name": "stdout",
     "output_type": "stream",
     "text": [
      "0 Mary\n",
      "1 had\n",
      "2 a\n",
      "3 little\n",
      "4 lamb\n"
     ]
    }
   ],
   "source": [
    "for i in range(len(a)):\n",
    "    print(i , a[i])"
   ]
  },
  {
   "cell_type": "code",
   "execution_count": 26,
   "metadata": {},
   "outputs": [
    {
     "data": {
      "text/plain": [
       "range(0, 10)"
      ]
     },
     "execution_count": 26,
     "metadata": {},
     "output_type": "execute_result"
    }
   ],
   "source": [
    "range(10)\n",
    "\n",
    "# range()가 돌려준 객체는 list처럼 동작하지만 실제로 list를 만들진 않음\n",
    "#   -> 이터러블이라고 부른다. (ex. for문, sum())"
   ]
  },
  {
   "cell_type": "code",
   "execution_count": 27,
   "metadata": {},
   "outputs": [
    {
     "data": {
      "text/plain": [
       "6"
      ]
     },
     "execution_count": 27,
     "metadata": {},
     "output_type": "execute_result"
    }
   ],
   "source": [
    "sum(range(4))"
   ]
  },
  {
   "cell_type": "markdown",
   "metadata": {},
   "source": [
    "# 4.4. 루프의 break와 continue문, 그리고 else절"
   ]
  },
  {
   "cell_type": "code",
   "execution_count": 28,
   "metadata": {},
   "outputs": [
    {
     "name": "stdout",
     "output_type": "stream",
     "text": [
      "2  is a prime number\n",
      "3  is a prime number\n",
      "4  equals 2 * 2\n",
      "5  is a prime number\n",
      "6  equals 2 * 3\n",
      "7  is a prime number\n",
      "8  equals 2 * 4\n",
      "9  equals 3 * 3\n"
     ]
    }
   ],
   "source": [
    "for n in range(2, 10):\n",
    "    for x in range(2,n):\n",
    "        if n % x == 0:\n",
    "            print(n, ' equals', x , '*', n//x)\n",
    "            break\n",
    "    else: \n",
    "        print(n, ' is a prime number')\n",
    "\n",
    "# 2부터 10까지의 수인 n 보다 작은 수들(range(2,n)) 중 약수가 있는지\n",
    "# 있으면 break\n",
    "# 없으면 else -> if문이 아닌 for문에 속함 (break이 발생하지 않을경우)\n",
    "# if의 조건을 만족하면 break으로 가장 가까운 for문을 탈출하는 것"
   ]
  },
  {
   "cell_type": "code",
   "execution_count": 31,
   "metadata": {},
   "outputs": [
    {
     "name": "stdout",
     "output_type": "stream",
     "text": [
      "2  is a prime number\n",
      "4  equals 2 * 2\n",
      "6  equals 2 * 3\n",
      "8  equals 2 * 4\n"
     ]
    }
   ],
   "source": [
    "# 비교\n",
    "for n in range(2, 10):\n",
    "    for x in range(2,n):\n",
    "        if n % x == 0:\n",
    "            print(n, ' equals', x , '*', n//x)\n",
    "        break\n",
    "    else: \n",
    "        print(n, ' is a prime number')\n",
    "\n",
    "# if문을 돌리고 나면 break으로 for문을 무조건 빠져나오게됨\n",
    "#   -> else로 가지 않음\n",
    "# 2는 안의 for문을 아예 돌지 않음"
   ]
  },
  {
   "cell_type": "code",
   "execution_count": 29,
   "metadata": {},
   "outputs": [
    {
     "name": "stdout",
     "output_type": "stream",
     "text": [
      "Found an even number 2\n",
      "Found an odd number 3\n",
      "Found an even number 4\n",
      "Found an odd number 5\n",
      "Found an even number 6\n",
      "Found an odd number 7\n",
      "Found an even number 8\n",
      "Found an odd number 9\n"
     ]
    }
   ],
   "source": [
    "for num in range(2,10):\n",
    "    if num % 2 == 0:\n",
    "        print(\"Found an even number\", num)\n",
    "        continue\n",
    "    print(\"Found an odd number\", num)\n",
    "\n",
    "# 밑의 print로 안넘어가고 루프의 다음 이터레이션으로 넘어감"
   ]
  },
  {
   "cell_type": "markdown",
   "metadata": {},
   "source": [
    "# 4.5. pass 문"
   ]
  },
  {
   "cell_type": "code",
   "execution_count": 37,
   "metadata": {},
   "outputs": [
    {
     "ename": "KeyboardInterrupt",
     "evalue": "",
     "output_type": "error",
     "traceback": [
      "\u001b[1;31m---------------------------------------------------------------------------\u001b[0m",
      "\u001b[1;31mKeyboardInterrupt\u001b[0m                         Traceback (most recent call last)",
      "\u001b[1;32mc:\\vscode_doc\\4. 기타 제어 흐름 도구\\4.1. if 문.ipynb 셀 24\u001b[0m in \u001b[0;36m<cell line: 3>\u001b[1;34m()\u001b[0m\n\u001b[0;32m      <a href='vscode-notebook-cell:/c%3A/vscode_doc/4.%20%EA%B8%B0%ED%83%80%20%EC%A0%9C%EC%96%B4%20%ED%9D%90%EB%A6%84%20%EB%8F%84%EA%B5%AC/4.1.%20if%20%EB%AC%B8.ipynb#X31sZmlsZQ%3D%3D?line=0'>1</a>\u001b[0m \u001b[39m# 문법적으로 문장이 필요하지만 할일은 없을 때\u001b[39;00m\n\u001b[1;32m----> <a href='vscode-notebook-cell:/c%3A/vscode_doc/4.%20%EA%B8%B0%ED%83%80%20%EC%A0%9C%EC%96%B4%20%ED%9D%90%EB%A6%84%20%EB%8F%84%EA%B5%AC/4.1.%20if%20%EB%AC%B8.ipynb#X31sZmlsZQ%3D%3D?line=2'>3</a>\u001b[0m \u001b[39mwhile\u001b[39;00m \u001b[39mTrue\u001b[39;00m:\n\u001b[0;32m      <a href='vscode-notebook-cell:/c%3A/vscode_doc/4.%20%EA%B8%B0%ED%83%80%20%EC%A0%9C%EC%96%B4%20%ED%9D%90%EB%A6%84%20%EB%8F%84%EA%B5%AC/4.1.%20if%20%EB%AC%B8.ipynb#X31sZmlsZQ%3D%3D?line=3'>4</a>\u001b[0m     \u001b[39mpass\u001b[39;00m\n",
      "\u001b[1;31mKeyboardInterrupt\u001b[0m: "
     ]
    }
   ],
   "source": [
    "# 문법적으로 문장이 필요하지만 할일은 없을 때\n",
    "\n",
    "while True:\n",
    "    pass"
   ]
  },
  {
   "cell_type": "code",
   "execution_count": 38,
   "metadata": {},
   "outputs": [],
   "source": [
    "# 최소한의 클래스를 만들 때\n",
    "\n",
    "class MyEmptyClass:\n",
    "    pass"
   ]
  },
  {
   "cell_type": "code",
   "execution_count": 39,
   "metadata": {},
   "outputs": [],
   "source": [
    "# pass 는 무시됨\n",
    "\n",
    "def initlog(*args):\n",
    "    pass"
   ]
  },
  {
   "cell_type": "markdown",
   "metadata": {},
   "source": [
    "# 4.6. match Statements"
   ]
  },
  {
   "cell_type": "code",
   "execution_count": 40,
   "metadata": {},
   "outputs": [],
   "source": [
    "def http_error(status):\n",
    "    match status:\n",
    "        case 400:\n",
    "            return \"Bad request\"\n",
    "        case 404:\n",
    "            return \"Not found\"\n",
    "        case 418:\n",
    "            return \"I'm a teapot\"\n",
    "        case _:\n",
    "            return \"something' wrong with the internet\""
   ]
  },
  {
   "cell_type": "markdown",
   "metadata": {},
   "source": [
    "# 4.7. 함수 정의하기"
   ]
  },
  {
   "cell_type": "code",
   "execution_count": 56,
   "metadata": {},
   "outputs": [],
   "source": [
    "def fib(n):\n",
    "    \"\"\"Print a Fibonacci series up to n.\"\"\"\n",
    "    a, b =0, 1\n",
    "    while a < n:\n",
    "        print(a, end=' ')\n",
    "        a,b = b, a+b\n",
    "    print()\n",
    "  \n",
    "# print() 는 마지막의 공백 엔터"
   ]
  },
  {
   "cell_type": "code",
   "execution_count": 51,
   "metadata": {},
   "outputs": [
    {
     "name": "stdout",
     "output_type": "stream",
     "text": [
      "\n"
     ]
    }
   ],
   "source": [
    "fib(0)"
   ]
  },
  {
   "cell_type": "code",
   "execution_count": 57,
   "metadata": {},
   "outputs": [
    {
     "name": "stdout",
     "output_type": "stream",
     "text": [
      "0 1 1 2 3 5 8 13 21 34 55 89 "
     ]
    }
   ],
   "source": [
    "fib(100)"
   ]
  },
  {
   "cell_type": "markdown",
   "metadata": {},
   "source": [
    "\"\"\" \"\"\" 안에 독스트링을 넣어줌\n",
    "\n",
    "함수 내의 변수들은 전역변수가 아님\n",
    "\n",
    "함수 호출로 전달되는 실제 매개변수들은 호출될 때 호출되는 함수의 지역 심볼 테이블에 만들어짐\n",
    "인자들은 값에 의한 호출로 전달됨 (값: 객체의 값이아니라 객체참조)\n",
    "함수가 다른 함수를 호출 하거나 자신을 호출할때 그 호출을 위한 새 지역 심볼 테이블이 만들어짐\n",
    "\n",
    "함수 정의는 함수 이름을 현재 심볼 테이블의 함수 객체와 연결한다.\n",
    "다른 이름은 같은 함수 객체를 가리킬 수 있으며 함수에 엑세스 하는데 사용 가능하다."
   ]
  },
  {
   "cell_type": "code",
   "execution_count": 48,
   "metadata": {},
   "outputs": [
    {
     "name": "stdout",
     "output_type": "stream",
     "text": [
      "0 1 1 2 3 5 8 13 21 34 55 89 \n"
     ]
    }
   ],
   "source": [
    "f=fib\n",
    "f(100)"
   ]
  },
  {
   "cell_type": "code",
   "execution_count": 58,
   "metadata": {},
   "outputs": [],
   "source": [
    "# fib(0) 에는 값이 없다 print(fib(0)) 하면 none(내장이름)이 출력됨\n",
    "\n",
    "fib(0)"
   ]
  },
  {
   "cell_type": "code",
   "execution_count": 59,
   "metadata": {},
   "outputs": [],
   "source": [
    "# 인쇄대신 리스트를 돌려주도록 함수 작성\n",
    "\n",
    "def fib2(n):\n",
    "    \"\"\"Return a list containing the Fibonacci series up to n.\"\"\"\n",
    "    result = []\n",
    "    a,b = 0,1\n",
    "    while a < n:\n",
    "        result.append(a)\n",
    "        a, b = b, a+b\n",
    "    return result"
   ]
  },
  {
   "cell_type": "code",
   "execution_count": 61,
   "metadata": {},
   "outputs": [
    {
     "data": {
      "text/plain": [
       "[0, 1, 1, 2, 3, 5, 8, 13, 21, 34, 55, 89, 144]"
      ]
     },
     "execution_count": 61,
     "metadata": {},
     "output_type": "execute_result"
    }
   ],
   "source": [
    "fib2(200)"
   ]
  },
  {
   "cell_type": "markdown",
   "metadata": {},
   "source": [
    "return 문은 함수로부터 값을 갖고 복귀하게 만든다.\n",
    "append는 리스트 객체 result의 메서드"
   ]
  },
  {
   "cell_type": "markdown",
   "metadata": {},
   "source": [
    "# 4.8. 함수 정의 더 보기\n",
    "\n",
    "정해지지 않은 개수의 인자들로 함수를 정의"
   ]
  },
  {
   "cell_type": "markdown",
   "metadata": {},
   "source": [
    "### 4.8.1. 기본 인자 값"
   ]
  },
  {
   "cell_type": "code",
   "execution_count": 69,
   "metadata": {},
   "outputs": [],
   "source": [
    "# 하나나 그 이상 인자들의 기본값을 지정\n",
    "\n",
    "def ask_ok(prompt, retries=4, reminder='Please try again!'):\n",
    "    while True:\n",
    "        ok = input(prompt)\n",
    "        if ok in ('y', 'ye','yes'):\n",
    "            return True\n",
    "        if ok in ('n','no','nop','nope'):\n",
    "            return False\n",
    "        retries = retries -1\n",
    "        if retries <0:\n",
    "            raise ValueError('invalid user response')\n",
    "        print(reminder)\n",
    "\n",
    "# else를 쓰면 바로 위 if문에 종속\n",
    "# yes or no 면 retires는 사용 x"
   ]
  },
  {
   "cell_type": "code",
   "execution_count": 72,
   "metadata": {},
   "outputs": [
    {
     "name": "stdout",
     "output_type": "stream",
     "text": [
      "Please try again!\n",
      "Please try again!\n",
      "Please try again!\n",
      "Please try again!\n"
     ]
    },
    {
     "ename": "ValueError",
     "evalue": "invalid user response",
     "output_type": "error",
     "traceback": [
      "\u001b[1;31m---------------------------------------------------------------------------\u001b[0m",
      "\u001b[1;31mValueError\u001b[0m                                Traceback (most recent call last)",
      "\u001b[1;32mc:\\vscode_doc\\4. 기타 제어 흐름 도구\\4.1. if 문.ipynb 셀 42\u001b[0m in \u001b[0;36m<cell line: 1>\u001b[1;34m()\u001b[0m\n\u001b[1;32m----> <a href='vscode-notebook-cell:/c%3A/vscode_doc/4.%20%EA%B8%B0%ED%83%80%20%EC%A0%9C%EC%96%B4%20%ED%9D%90%EB%A6%84%20%EB%8F%84%EA%B5%AC/4.1.%20if%20%EB%AC%B8.ipynb#Y102sZmlsZQ%3D%3D?line=0'>1</a>\u001b[0m ask_ok(\u001b[39m'\u001b[39;49m\u001b[39m정말 끝내길 원하세요?\u001b[39;49m\u001b[39m'\u001b[39;49m)\n",
      "\u001b[1;32mc:\\vscode_doc\\4. 기타 제어 흐름 도구\\4.1. if 문.ipynb 셀 42\u001b[0m in \u001b[0;36mask_ok\u001b[1;34m(prompt, retries, reminder)\u001b[0m\n\u001b[0;32m     <a href='vscode-notebook-cell:/c%3A/vscode_doc/4.%20%EA%B8%B0%ED%83%80%20%EC%A0%9C%EC%96%B4%20%ED%9D%90%EB%A6%84%20%EB%8F%84%EA%B5%AC/4.1.%20if%20%EB%AC%B8.ipynb#Y102sZmlsZQ%3D%3D?line=9'>10</a>\u001b[0m retries \u001b[39m=\u001b[39m retries \u001b[39m-\u001b[39m\u001b[39m1\u001b[39m\n\u001b[0;32m     <a href='vscode-notebook-cell:/c%3A/vscode_doc/4.%20%EA%B8%B0%ED%83%80%20%EC%A0%9C%EC%96%B4%20%ED%9D%90%EB%A6%84%20%EB%8F%84%EA%B5%AC/4.1.%20if%20%EB%AC%B8.ipynb#Y102sZmlsZQ%3D%3D?line=10'>11</a>\u001b[0m \u001b[39mif\u001b[39;00m retries \u001b[39m<\u001b[39m\u001b[39m0\u001b[39m:\n\u001b[1;32m---> <a href='vscode-notebook-cell:/c%3A/vscode_doc/4.%20%EA%B8%B0%ED%83%80%20%EC%A0%9C%EC%96%B4%20%ED%9D%90%EB%A6%84%20%EB%8F%84%EA%B5%AC/4.1.%20if%20%EB%AC%B8.ipynb#Y102sZmlsZQ%3D%3D?line=11'>12</a>\u001b[0m     \u001b[39mraise\u001b[39;00m \u001b[39mValueError\u001b[39;00m(\u001b[39m'\u001b[39m\u001b[39minvalid user response\u001b[39m\u001b[39m'\u001b[39m)\n\u001b[0;32m     <a href='vscode-notebook-cell:/c%3A/vscode_doc/4.%20%EA%B8%B0%ED%83%80%20%EC%A0%9C%EC%96%B4%20%ED%9D%90%EB%A6%84%20%EB%8F%84%EA%B5%AC/4.1.%20if%20%EB%AC%B8.ipynb#Y102sZmlsZQ%3D%3D?line=12'>13</a>\u001b[0m \u001b[39mprint\u001b[39m(reminder)\n",
      "\u001b[1;31mValueError\u001b[0m: invalid user response"
     ]
    }
   ],
   "source": [
    "ask_ok('정말 끝내길 원하세요?')"
   ]
  },
  {
   "cell_type": "code",
   "execution_count": 73,
   "metadata": {},
   "outputs": [
    {
     "name": "stdout",
     "output_type": "stream",
     "text": [
      "Please try again!\n",
      "Please try again!\n"
     ]
    },
    {
     "ename": "ValueError",
     "evalue": "invalid user response",
     "output_type": "error",
     "traceback": [
      "\u001b[1;31m---------------------------------------------------------------------------\u001b[0m",
      "\u001b[1;31mValueError\u001b[0m                                Traceback (most recent call last)",
      "\u001b[1;32mc:\\vscode_doc\\4. 기타 제어 흐름 도구\\4.1. if 문.ipynb 셀 43\u001b[0m in \u001b[0;36m<cell line: 1>\u001b[1;34m()\u001b[0m\n\u001b[1;32m----> <a href='vscode-notebook-cell:/c%3A/vscode_doc/4.%20%EA%B8%B0%ED%83%80%20%EC%A0%9C%EC%96%B4%20%ED%9D%90%EB%A6%84%20%EB%8F%84%EA%B5%AC/4.1.%20if%20%EB%AC%B8.ipynb#Y103sZmlsZQ%3D%3D?line=0'>1</a>\u001b[0m ask_ok(\u001b[39m'\u001b[39;49m\u001b[39m정말 끝내길 원하세요?\u001b[39;49m\u001b[39m'\u001b[39;49m,\u001b[39m2\u001b[39;49m)\n",
      "\u001b[1;32mc:\\vscode_doc\\4. 기타 제어 흐름 도구\\4.1. if 문.ipynb 셀 43\u001b[0m in \u001b[0;36mask_ok\u001b[1;34m(prompt, retries, reminder)\u001b[0m\n\u001b[0;32m     <a href='vscode-notebook-cell:/c%3A/vscode_doc/4.%20%EA%B8%B0%ED%83%80%20%EC%A0%9C%EC%96%B4%20%ED%9D%90%EB%A6%84%20%EB%8F%84%EA%B5%AC/4.1.%20if%20%EB%AC%B8.ipynb#Y103sZmlsZQ%3D%3D?line=9'>10</a>\u001b[0m retries \u001b[39m=\u001b[39m retries \u001b[39m-\u001b[39m\u001b[39m1\u001b[39m\n\u001b[0;32m     <a href='vscode-notebook-cell:/c%3A/vscode_doc/4.%20%EA%B8%B0%ED%83%80%20%EC%A0%9C%EC%96%B4%20%ED%9D%90%EB%A6%84%20%EB%8F%84%EA%B5%AC/4.1.%20if%20%EB%AC%B8.ipynb#Y103sZmlsZQ%3D%3D?line=10'>11</a>\u001b[0m \u001b[39mif\u001b[39;00m retries \u001b[39m<\u001b[39m\u001b[39m0\u001b[39m:\n\u001b[1;32m---> <a href='vscode-notebook-cell:/c%3A/vscode_doc/4.%20%EA%B8%B0%ED%83%80%20%EC%A0%9C%EC%96%B4%20%ED%9D%90%EB%A6%84%20%EB%8F%84%EA%B5%AC/4.1.%20if%20%EB%AC%B8.ipynb#Y103sZmlsZQ%3D%3D?line=11'>12</a>\u001b[0m     \u001b[39mraise\u001b[39;00m \u001b[39mValueError\u001b[39;00m(\u001b[39m'\u001b[39m\u001b[39minvalid user response\u001b[39m\u001b[39m'\u001b[39m)\n\u001b[0;32m     <a href='vscode-notebook-cell:/c%3A/vscode_doc/4.%20%EA%B8%B0%ED%83%80%20%EC%A0%9C%EC%96%B4%20%ED%9D%90%EB%A6%84%20%EB%8F%84%EA%B5%AC/4.1.%20if%20%EB%AC%B8.ipynb#Y103sZmlsZQ%3D%3D?line=12'>13</a>\u001b[0m \u001b[39mprint\u001b[39m(reminder)\n",
      "\u001b[1;31mValueError\u001b[0m: invalid user response"
     ]
    }
   ],
   "source": [
    "ask_ok('정말 끝내길 원하세요?',2)"
   ]
  },
  {
   "cell_type": "code",
   "execution_count": 74,
   "metadata": {},
   "outputs": [
    {
     "name": "stdout",
     "output_type": "stream",
     "text": [
      "yes or no\n",
      "yes or no\n"
     ]
    },
    {
     "data": {
      "text/plain": [
       "True"
      ]
     },
     "execution_count": 74,
     "metadata": {},
     "output_type": "execute_result"
    }
   ],
   "source": [
    "ask_ok('정말 끝내길 원하세요?',2,'yes or no')"
   ]
  },
  {
   "cell_type": "code",
   "execution_count": 75,
   "metadata": {},
   "outputs": [
    {
     "name": "stdout",
     "output_type": "stream",
     "text": [
      "5\n"
     ]
    }
   ],
   "source": [
    "i = 5\n",
    "\n",
    "def f(arg=i):\n",
    "    print(arg)\n",
    "\n",
    "i = 6\n",
    "f()\n",
    "\n",
    "# 이미 정의되고 난후에 변수 값을 바꾸는 것은 소용 없음"
   ]
  },
  {
   "cell_type": "code",
   "execution_count": 80,
   "metadata": {},
   "outputs": [],
   "source": [
    "# 기본값은 한번만 구해짐 \n",
    "# 함수를 계속 호출하면 인자들이 누적된다.\n",
    "\n",
    "def f(a, L=[]):\n",
    "    L.append(a)\n",
    "    return L"
   ]
  },
  {
   "cell_type": "code",
   "execution_count": 81,
   "metadata": {},
   "outputs": [
    {
     "name": "stdout",
     "output_type": "stream",
     "text": [
      "[1]\n",
      "[1, 1]\n"
     ]
    }
   ],
   "source": [
    "print(f(1))\n",
    "print(f(1))"
   ]
  },
  {
   "cell_type": "code",
   "execution_count": 82,
   "metadata": {},
   "outputs": [
    {
     "name": "stdout",
     "output_type": "stream",
     "text": [
      "[1, 1, 2]\n",
      "[1, 1, 2, 3]\n"
     ]
    }
   ],
   "source": [
    "print(f(2))\n",
    "print(f(3))"
   ]
  },
  {
   "cell_type": "code",
   "execution_count": 83,
   "metadata": {},
   "outputs": [],
   "source": [
    "# 누적되지 않길 원하면\n",
    "\n",
    "def f(a, L=None):\n",
    "    if L is None:\n",
    "        L = []\n",
    "    L.append(a)\n",
    "    return L\n",
    "\n",
    "# L의 기본값을 None으로 정해주면서 초기화 시켜줌"
   ]
  },
  {
   "cell_type": "code",
   "execution_count": 84,
   "metadata": {},
   "outputs": [
    {
     "name": "stdout",
     "output_type": "stream",
     "text": [
      "[1]\n",
      "[1]\n"
     ]
    }
   ],
   "source": [
    "print(f(1))\n",
    "print(f(1))"
   ]
  },
  {
   "cell_type": "code",
   "execution_count": 85,
   "metadata": {},
   "outputs": [
    {
     "name": "stdout",
     "output_type": "stream",
     "text": [
      "[2]\n",
      "[3]\n"
     ]
    }
   ],
   "source": [
    "print(f(2))\n",
    "print(f(3))"
   ]
  },
  {
   "cell_type": "markdown",
   "metadata": {},
   "source": [
    "### 4.8.2. 키워드 인자"
   ]
  },
  {
   "cell_type": "code",
   "execution_count": 86,
   "metadata": {},
   "outputs": [],
   "source": [
    "def parrot(voltage, state='a stiff', action='voom', type='Norwegian Blue'):\n",
    "    print(\"--This parrot wouldn't\", action, end=\" \")\n",
    "    print(\"if you put\", voltage, \"volts through it.\")\n",
    "    print(\"--Lovely plumage, the\", type)\n",
    "    print(\"--It's\", state, \"!\")\n",
    "\n",
    "# voltage는 필수인자 나머지는 선택적 인자로 받아들임"
   ]
  },
  {
   "cell_type": "code",
   "execution_count": 87,
   "metadata": {},
   "outputs": [
    {
     "name": "stdout",
     "output_type": "stream",
     "text": [
      "--This parrot wouldn't voom if you put 1000 volts through it.\n",
      "--Lovely plumage, the Norwegian Blue\n",
      "--It's a stiff !\n"
     ]
    }
   ],
   "source": [
    "parrot(1000)\n",
    "\n",
    "# 1 positional argument"
   ]
  },
  {
   "cell_type": "code",
   "execution_count": 88,
   "metadata": {},
   "outputs": [
    {
     "name": "stdout",
     "output_type": "stream",
     "text": [
      "--This parrot wouldn't voom if you put 1000 volts through it.\n",
      "--Lovely plumage, the Norwegian Blue\n",
      "--It's a stiff !\n"
     ]
    }
   ],
   "source": [
    "parrot(voltage=1000)\n",
    "\n",
    "# 1 keyword argument"
   ]
  },
  {
   "cell_type": "code",
   "execution_count": 89,
   "metadata": {},
   "outputs": [
    {
     "name": "stdout",
     "output_type": "stream",
     "text": [
      "--This parrot wouldn't VOOOOOOM if you put 1000 volts through it.\n",
      "--Lovely plumage, the Norwegian Blue\n",
      "--It's a stiff !\n"
     ]
    }
   ],
   "source": [
    "parrot(voltage=1000, action='VOOOOOOM')\n",
    "\n",
    "# 2 keyword argument\n",
    "# 순서는 상관 없음"
   ]
  },
  {
   "cell_type": "code",
   "execution_count": 90,
   "metadata": {},
   "outputs": [
    {
     "name": "stdout",
     "output_type": "stream",
     "text": [
      "--This parrot wouldn't jump if you put a maillion volts through it.\n",
      "--Lovely plumage, the Norwegian Blue\n",
      "--It's bereft of life !\n"
     ]
    }
   ],
   "source": [
    "parrot('a maillion', 'bereft of life', 'jump')\n",
    "\n",
    "# 3 positional arguments\n",
    "# voltage, state, action 순서대로 들어감"
   ]
  },
  {
   "cell_type": "code",
   "execution_count": 91,
   "metadata": {},
   "outputs": [
    {
     "name": "stdout",
     "output_type": "stream",
     "text": [
      "--This parrot wouldn't voom if you put a thousand volts through it.\n",
      "--Lovely plumage, the Norwegian Blue\n",
      "--It's pushing up the daisies !\n"
     ]
    }
   ],
   "source": [
    "parrot('a thousand', state='pushing up the daisies')\n",
    "\n",
    "# 1 positional, 1 keyword"
   ]
  },
  {
   "cell_type": "code",
   "execution_count": null,
   "metadata": {},
   "outputs": [],
   "source": [
    "# 오류 뜨는 경우\n",
    "\n",
    "parrot()    # 필수인자없음\n",
    "parrot(voltage=5.0, 'dead')     # keyword 인자 뒤에 keyword인자가 없음\n",
    "parrot(110, voltage=220)     # 중복된 인자\n",
    "parrot(actor='John Cleese')     # unknown keyword\n",
    "\n",
    "# 키워드 인자는 위치 인자 뒤에 써야함\n",
    "# 두 개의 값을 받을 수는 없음\n"
   ]
  },
  {
   "cell_type": "code",
   "execution_count": 95,
   "metadata": {},
   "outputs": [],
   "source": [
    "def cheeseshop(kind, *arguments, **keywords):\n",
    "    print(\"--Do you have any\", kind, \"?\")\n",
    "    print(\"--I'm sorry, we're all out of\", kind)\n",
    "    for arg in arguments:\n",
    "        print(arg)\n",
    "    print(\"-\" * 40)\n",
    "    for kw in keywords:\n",
    "        print(kw, \":\", keywords[kw])"
   ]
  },
  {
   "cell_type": "code",
   "execution_count": 96,
   "metadata": {},
   "outputs": [
    {
     "name": "stdout",
     "output_type": "stream",
     "text": [
      "--Do you have any Limburger ?\n",
      "--I'm sorry, we're all out of Limburger\n",
      "It's very runny, sir.\n",
      "It's really very, VERY runny, sir.\n",
      "----------------------------------------\n",
      "shopkeeper : Michael Palin\n",
      "client : John Cleese\n",
      "sketch : Cheese Shop Sketch\n"
     ]
    }
   ],
   "source": [
    "cheeseshop(\"Limburger\", \"It's very runny, sir.\",\n",
    "           \"It's really very, VERY runny, sir.\",\n",
    "           shopkeeper=\"Michael Palin\",\n",
    "           client=\"John Cleese\",\n",
    "           sketch=\"Cheese Shop Sketch\")"
   ]
  },
  {
   "cell_type": "markdown",
   "metadata": {},
   "source": [
    "### 4.8.3. 특수 매개 변수"
   ]
  },
  {
   "cell_type": "code",
   "execution_count": null,
   "metadata": {},
   "outputs": [],
   "source": [
    "def f(pos1, pos2, / , pos_or_key, * , key1,key2):\n",
    "    # positional only / 둘다 가능 * keyword only\n",
    "    # / 와 *는 선택적\n",
    "    # / 앞에는 positional only\n",
    "    # * 뒤에는 keyword only"
   ]
  },
  {
   "cell_type": "markdown",
   "metadata": {},
   "source": [
    "#### 4.8.4. 함수 예제"
   ]
  },
  {
   "cell_type": "code",
   "execution_count": 5,
   "metadata": {},
   "outputs": [
    {
     "name": "stdout",
     "output_type": "stream",
     "text": [
      "2\n",
      "2\n"
     ]
    }
   ],
   "source": [
    "def standard_arg(arg):\n",
    "    print(arg)\n",
    "\n",
    "standard_arg(2)\n",
    "standard_arg(arg=2)\n",
    "\n",
    "\n"
   ]
  },
  {
   "cell_type": "code",
   "execution_count": 6,
   "metadata": {},
   "outputs": [
    {
     "name": "stdout",
     "output_type": "stream",
     "text": [
      "1\n"
     ]
    },
    {
     "ename": "TypeError",
     "evalue": "pos_only_arg() got some positional-only arguments passed as keyword arguments: 'arg'",
     "output_type": "error",
     "traceback": [
      "\u001b[1;31m---------------------------------------------------------------------------\u001b[0m",
      "\u001b[1;31mTypeError\u001b[0m                                 Traceback (most recent call last)",
      "\u001b[1;32mc:\\vscode_doc\\4. 기타 제어 흐름 도구\\4.1. -4.8..ipynb 셀 66\u001b[0m in \u001b[0;36m<cell line: 5>\u001b[1;34m()\u001b[0m\n\u001b[0;32m      <a href='vscode-notebook-cell:/c%3A/vscode_doc/4.%20%EA%B8%B0%ED%83%80%20%EC%A0%9C%EC%96%B4%20%ED%9D%90%EB%A6%84%20%EB%8F%84%EA%B5%AC/4.1.%20-4.8..ipynb#Y124sZmlsZQ%3D%3D?line=1'>2</a>\u001b[0m     \u001b[39mprint\u001b[39m(arg)\n\u001b[0;32m      <a href='vscode-notebook-cell:/c%3A/vscode_doc/4.%20%EA%B8%B0%ED%83%80%20%EC%A0%9C%EC%96%B4%20%ED%9D%90%EB%A6%84%20%EB%8F%84%EA%B5%AC/4.1.%20-4.8..ipynb#Y124sZmlsZQ%3D%3D?line=3'>4</a>\u001b[0m pos_only_arg(\u001b[39m1\u001b[39m)\n\u001b[1;32m----> <a href='vscode-notebook-cell:/c%3A/vscode_doc/4.%20%EA%B8%B0%ED%83%80%20%EC%A0%9C%EC%96%B4%20%ED%9D%90%EB%A6%84%20%EB%8F%84%EA%B5%AC/4.1.%20-4.8..ipynb#Y124sZmlsZQ%3D%3D?line=4'>5</a>\u001b[0m pos_only_arg(arg\u001b[39m=\u001b[39;49m\u001b[39m1\u001b[39;49m)\n",
      "\u001b[1;31mTypeError\u001b[0m: pos_only_arg() got some positional-only arguments passed as keyword arguments: 'arg'"
     ]
    }
   ],
   "source": [
    "def pos_only_arg(arg,/):\n",
    "    print(arg)\n",
    "\n",
    "pos_only_arg(1)\n",
    "pos_only_arg(arg=1)\n"
   ]
  },
  {
   "cell_type": "code",
   "execution_count": 8,
   "metadata": {},
   "outputs": [
    {
     "name": "stdout",
     "output_type": "stream",
     "text": [
      "3\n"
     ]
    },
    {
     "ename": "TypeError",
     "evalue": "key_only_arg() takes 0 positional arguments but 1 was given",
     "output_type": "error",
     "traceback": [
      "\u001b[1;31m---------------------------------------------------------------------------\u001b[0m",
      "\u001b[1;31mTypeError\u001b[0m                                 Traceback (most recent call last)",
      "\u001b[1;32mc:\\vscode_doc\\4. 기타 제어 흐름 도구\\4.1. -4.8..ipynb 셀 67\u001b[0m in \u001b[0;36m<cell line: 5>\u001b[1;34m()\u001b[0m\n\u001b[0;32m      <a href='vscode-notebook-cell:/c%3A/vscode_doc/4.%20%EA%B8%B0%ED%83%80%20%EC%A0%9C%EC%96%B4%20%ED%9D%90%EB%A6%84%20%EB%8F%84%EA%B5%AC/4.1.%20-4.8..ipynb#Y130sZmlsZQ%3D%3D?line=1'>2</a>\u001b[0m     \u001b[39mprint\u001b[39m(arg)\n\u001b[0;32m      <a href='vscode-notebook-cell:/c%3A/vscode_doc/4.%20%EA%B8%B0%ED%83%80%20%EC%A0%9C%EC%96%B4%20%ED%9D%90%EB%A6%84%20%EB%8F%84%EA%B5%AC/4.1.%20-4.8..ipynb#Y130sZmlsZQ%3D%3D?line=3'>4</a>\u001b[0m key_only_arg(arg\u001b[39m=\u001b[39m\u001b[39m3\u001b[39m)\n\u001b[1;32m----> <a href='vscode-notebook-cell:/c%3A/vscode_doc/4.%20%EA%B8%B0%ED%83%80%20%EC%A0%9C%EC%96%B4%20%ED%9D%90%EB%A6%84%20%EB%8F%84%EA%B5%AC/4.1.%20-4.8..ipynb#Y130sZmlsZQ%3D%3D?line=4'>5</a>\u001b[0m key_only_arg(\u001b[39m3\u001b[39;49m)\n",
      "\u001b[1;31mTypeError\u001b[0m: key_only_arg() takes 0 positional arguments but 1 was given"
     ]
    }
   ],
   "source": [
    "\n",
    "def key_only_arg(*,arg):\n",
    "    print(arg)\n",
    "\n",
    "key_only_arg(arg=3)\n",
    "key_only_arg(3)"
   ]
  },
  {
   "cell_type": "code",
   "execution_count": 9,
   "metadata": {},
   "outputs": [
    {
     "ename": "TypeError",
     "evalue": "combined_example() takes 2 positional arguments but 3 were given",
     "output_type": "error",
     "traceback": [
      "\u001b[1;31m---------------------------------------------------------------------------\u001b[0m",
      "\u001b[1;31mTypeError\u001b[0m                                 Traceback (most recent call last)",
      "\u001b[1;32mc:\\vscode_doc\\4. 기타 제어 흐름 도구\\4.1. -4.8..ipynb 셀 68\u001b[0m in \u001b[0;36m<cell line: 4>\u001b[1;34m()\u001b[0m\n\u001b[0;32m      <a href='vscode-notebook-cell:/c%3A/vscode_doc/4.%20%EA%B8%B0%ED%83%80%20%EC%A0%9C%EC%96%B4%20%ED%9D%90%EB%A6%84%20%EB%8F%84%EA%B5%AC/4.1.%20-4.8..ipynb#Y126sZmlsZQ%3D%3D?line=0'>1</a>\u001b[0m \u001b[39mdef\u001b[39;00m \u001b[39mcombined_example\u001b[39m(pos_only,\u001b[39m/\u001b[39m,standard,\u001b[39m*\u001b[39m,key_only):\n\u001b[0;32m      <a href='vscode-notebook-cell:/c%3A/vscode_doc/4.%20%EA%B8%B0%ED%83%80%20%EC%A0%9C%EC%96%B4%20%ED%9D%90%EB%A6%84%20%EB%8F%84%EA%B5%AC/4.1.%20-4.8..ipynb#Y126sZmlsZQ%3D%3D?line=1'>2</a>\u001b[0m     \u001b[39mprint\u001b[39m(pos_only, standard, key_only)\n\u001b[1;32m----> <a href='vscode-notebook-cell:/c%3A/vscode_doc/4.%20%EA%B8%B0%ED%83%80%20%EC%A0%9C%EC%96%B4%20%ED%9D%90%EB%A6%84%20%EB%8F%84%EA%B5%AC/4.1.%20-4.8..ipynb#Y126sZmlsZQ%3D%3D?line=3'>4</a>\u001b[0m combined_example(\u001b[39m1\u001b[39;49m,\u001b[39m2\u001b[39;49m,\u001b[39m3\u001b[39;49m)\n",
      "\u001b[1;31mTypeError\u001b[0m: combined_example() takes 2 positional arguments but 3 were given"
     ]
    }
   ],
   "source": [
    "def combined_example(pos_only,/,standard,*,key_only):\n",
    "    print(pos_only, standard, key_only)\n",
    "\n",
    "combined_example(1,2,3)"
   ]
  },
  {
   "cell_type": "code",
   "execution_count": 10,
   "metadata": {},
   "outputs": [
    {
     "name": "stdout",
     "output_type": "stream",
     "text": [
      "1 2 3\n"
     ]
    }
   ],
   "source": [
    "combined_example(1,2,key_only=3)"
   ]
  },
  {
   "cell_type": "code",
   "execution_count": 11,
   "metadata": {},
   "outputs": [
    {
     "name": "stdout",
     "output_type": "stream",
     "text": [
      "1 2 3\n"
     ]
    }
   ],
   "source": [
    "combined_example(1,standard=2,key_only=3)"
   ]
  },
  {
   "cell_type": "code",
   "execution_count": 12,
   "metadata": {},
   "outputs": [
    {
     "ename": "TypeError",
     "evalue": "combined_example() got some positional-only arguments passed as keyword arguments: 'pos_only'",
     "output_type": "error",
     "traceback": [
      "\u001b[1;31m---------------------------------------------------------------------------\u001b[0m",
      "\u001b[1;31mTypeError\u001b[0m                                 Traceback (most recent call last)",
      "\u001b[1;32mc:\\vscode_doc\\4. 기타 제어 흐름 도구\\4.1. -4.8..ipynb 셀 71\u001b[0m in \u001b[0;36m<cell line: 1>\u001b[1;34m()\u001b[0m\n\u001b[1;32m----> <a href='vscode-notebook-cell:/c%3A/vscode_doc/4.%20%EA%B8%B0%ED%83%80%20%EC%A0%9C%EC%96%B4%20%ED%9D%90%EB%A6%84%20%EB%8F%84%EA%B5%AC/4.1.%20-4.8..ipynb#Y133sZmlsZQ%3D%3D?line=0'>1</a>\u001b[0m combined_example(pos_only\u001b[39m=\u001b[39;49m\u001b[39m1\u001b[39;49m,standard\u001b[39m=\u001b[39;49m\u001b[39m2\u001b[39;49m,key_only\u001b[39m=\u001b[39;49m\u001b[39m3\u001b[39;49m)\n",
      "\u001b[1;31mTypeError\u001b[0m: combined_example() got some positional-only arguments passed as keyword arguments: 'pos_only'"
     ]
    }
   ],
   "source": [
    "combined_example(pos_only=1,standard=2,key_only=3)"
   ]
  },
  {
   "cell_type": "code",
   "execution_count": 13,
   "metadata": {},
   "outputs": [],
   "source": [
    "def foo (name, **kwds):\n",
    "    return 'name' in kwds\n",
    "\n",
    "# kwds에 name이라는 key가 있다면?"
   ]
  },
  {
   "cell_type": "code",
   "execution_count": 14,
   "metadata": {},
   "outputs": [
    {
     "ename": "TypeError",
     "evalue": "foo() got multiple values for argument 'name'",
     "output_type": "error",
     "traceback": [
      "\u001b[1;31m---------------------------------------------------------------------------\u001b[0m",
      "\u001b[1;31mTypeError\u001b[0m                                 Traceback (most recent call last)",
      "\u001b[1;32mc:\\vscode_doc\\4. 기타 제어 흐름 도구\\4.1. -4.8..ipynb 셀 73\u001b[0m in \u001b[0;36m<cell line: 1>\u001b[1;34m()\u001b[0m\n\u001b[1;32m----> <a href='vscode-notebook-cell:/c%3A/vscode_doc/4.%20%EA%B8%B0%ED%83%80%20%EC%A0%9C%EC%96%B4%20%ED%9D%90%EB%A6%84%20%EB%8F%84%EA%B5%AC/4.1.%20-4.8..ipynb#Y135sZmlsZQ%3D%3D?line=0'>1</a>\u001b[0m foo(\u001b[39m1\u001b[39m, \u001b[39m*\u001b[39m\u001b[39m*\u001b[39m{\u001b[39m'\u001b[39m\u001b[39mname\u001b[39m\u001b[39m'\u001b[39m:\u001b[39m2\u001b[39m})\n",
      "\u001b[1;31mTypeError\u001b[0m: foo() got multiple values for argument 'name'"
     ]
    }
   ],
   "source": [
    "foo(1, **{'name':2})\n",
    "\n",
    "# name의 값이 두개가됨\n"
   ]
  },
  {
   "cell_type": "code",
   "execution_count": 16,
   "metadata": {},
   "outputs": [
    {
     "data": {
      "text/plain": [
       "True"
      ]
     },
     "execution_count": 16,
     "metadata": {},
     "output_type": "execute_result"
    }
   ],
   "source": [
    "# 위치 전용 인자를 사용하면 됨\n",
    "def foo(name,/,**kwds):\n",
    "    return 'name' in kwds\n",
    "\n",
    "foo(1, **{'name':2})\n",
    "\n",
    "# 위치 인자 name의 값은 1\n",
    "# key name의 value는 2\n",
    "# kwds 에는 name 이라는 key가 존재 -> True"
   ]
  },
  {
   "cell_type": "code",
   "execution_count": null,
   "metadata": {},
   "outputs": [],
   "source": []
  }
 ],
 "metadata": {
  "kernelspec": {
   "display_name": "Python 3.10.5 64-bit",
   "language": "python",
   "name": "python3"
  },
  "language_info": {
   "codemirror_mode": {
    "name": "ipython",
    "version": 3
   },
   "file_extension": ".py",
   "mimetype": "text/x-python",
   "name": "python",
   "nbconvert_exporter": "python",
   "pygments_lexer": "ipython3",
   "version": "3.10.5"
  },
  "orig_nbformat": 4,
  "vscode": {
   "interpreter": {
    "hash": "df95319d8ce4e1d89f5365ae10992bc1f65da593082b1d264e8f529830ec2f02"
   }
  }
 },
 "nbformat": 4,
 "nbformat_minor": 2
}
